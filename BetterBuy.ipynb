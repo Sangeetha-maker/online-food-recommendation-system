{
  "nbformat": 4,
  "nbformat_minor": 0,
  "metadata": {
    "colab": {
      "provenance": [],
      "authorship_tag": "ABX9TyPdkAMFGwwrSbSRk2olHRQo",
      "include_colab_link": true
    },
    "kernelspec": {
      "name": "python3",
      "display_name": "Python 3"
    },
    "language_info": {
      "name": "python"
    }
  },
  "cells": [
    {
      "cell_type": "markdown",
      "metadata": {
        "id": "view-in-github",
        "colab_type": "text"
      },
      "source": [
        "<a href=\"https://colab.research.google.com/github/Sangeetha-maker/online-food-recommendation-system/blob/main/BetterBuy.ipynb\" target=\"_parent\"><img src=\"https://colab.research.google.com/assets/colab-badge.svg\" alt=\"Open In Colab\"/></a>"
      ]
    },
    {
      "cell_type": "code",
      "execution_count": 3,
      "metadata": {
        "colab": {
          "base_uri": "https://localhost:8080/"
        },
        "id": "voybIYmTBACW",
        "outputId": "2b7d07ee-eda9-42dd-e28b-9911d527fcd6"
      },
      "outputs": [
        {
          "output_type": "stream",
          "name": "stdout",
          "text": [
            "Requirement already satisfied: kaggle in /usr/local/lib/python3.11/dist-packages (1.6.17)\n",
            "Requirement already satisfied: six>=1.10 in /usr/local/lib/python3.11/dist-packages (from kaggle) (1.17.0)\n",
            "Requirement already satisfied: certifi>=2023.7.22 in /usr/local/lib/python3.11/dist-packages (from kaggle) (2025.1.31)\n",
            "Requirement already satisfied: python-dateutil in /usr/local/lib/python3.11/dist-packages (from kaggle) (2.8.2)\n",
            "Requirement already satisfied: requests in /usr/local/lib/python3.11/dist-packages (from kaggle) (2.32.3)\n",
            "Requirement already satisfied: tqdm in /usr/local/lib/python3.11/dist-packages (from kaggle) (4.67.1)\n",
            "Requirement already satisfied: python-slugify in /usr/local/lib/python3.11/dist-packages (from kaggle) (8.0.4)\n",
            "Requirement already satisfied: urllib3 in /usr/local/lib/python3.11/dist-packages (from kaggle) (2.3.0)\n",
            "Requirement already satisfied: bleach in /usr/local/lib/python3.11/dist-packages (from kaggle) (6.2.0)\n",
            "Requirement already satisfied: webencodings in /usr/local/lib/python3.11/dist-packages (from bleach->kaggle) (0.5.1)\n",
            "Requirement already satisfied: text-unidecode>=1.3 in /usr/local/lib/python3.11/dist-packages (from python-slugify->kaggle) (1.3)\n",
            "Requirement already satisfied: charset-normalizer<4,>=2 in /usr/local/lib/python3.11/dist-packages (from requests->kaggle) (3.4.1)\n",
            "Requirement already satisfied: idna<4,>=2.5 in /usr/local/lib/python3.11/dist-packages (from requests->kaggle) (3.10)\n"
          ]
        }
      ],
      "source": [
        "!pip install kaggle"
      ]
    },
    {
      "cell_type": "code",
      "source": [
        "!mkdir -p ~/.kaggle\n",
        "!cp kaggle.json ~/.kaggle/\n",
        "!chmod 600 ~/.kaggle/kaggle.json"
      ],
      "metadata": {
        "id": "5EIjCNw_Guy4"
      },
      "execution_count": 8,
      "outputs": []
    },
    {
      "cell_type": "code",
      "source": [
        "!kaggle datasets download -d shrutimehta/zomato-restaurants-data"
      ],
      "metadata": {
        "colab": {
          "base_uri": "https://localhost:8080/"
        },
        "id": "V86VKmvLH7NL",
        "outputId": "4efd8c7d-4186-4b01-adfb-49ea2080f395"
      },
      "execution_count": 14,
      "outputs": [
        {
          "output_type": "stream",
          "name": "stdout",
          "text": [
            "Dataset URL: https://www.kaggle.com/datasets/shrutimehta/zomato-restaurants-data\n",
            "License(s): CC0-1.0\n",
            "Downloading zomato-restaurants-data.zip to /content\n",
            " 55% 3.00M/5.47M [00:00<00:00, 5.39MB/s]\n",
            "100% 5.47M/5.47M [00:00<00:00, 7.49MB/s]\n"
          ]
        }
      ]
    },
    {
      "cell_type": "code",
      "source": [
        "!unzip zomato-restaurants-data.zip"
      ],
      "metadata": {
        "colab": {
          "base_uri": "https://localhost:8080/"
        },
        "id": "JgJeGeHRH9t1",
        "outputId": "7816f8a1-8e37-4689-c193-7a54e694861c"
      },
      "execution_count": 15,
      "outputs": [
        {
          "output_type": "stream",
          "name": "stdout",
          "text": [
            "Archive:  zomato-restaurants-data.zip\n",
            "  inflating: Country-Code.xlsx       \n",
            "  inflating: file1.json              \n",
            "  inflating: file2.json              \n",
            "  inflating: file3.json              \n",
            "  inflating: file4.json              \n",
            "  inflating: file5.json              \n",
            "  inflating: zomato.csv              \n"
          ]
        }
      ]
    },
    {
      "cell_type": "code",
      "source": [
        "import requests\n",
        "import json\n",
        "\n",
        "# Load Kaggle API credentials\n",
        "with open('/content/kaggle.json', 'r') as file:\n",
        "    credentials = json.load(file)\n",
        "\n",
        "username = credentials['username']\n",
        "key = credentials['key']\n",
        "\n",
        "# Kaggle API endpoint\n",
        "# Changed url to Kaggle API for listing datasets\n",
        "url = \"https://www.kaggle.com/api/v1/datasets/list\"\n",
        "\n",
        "# Make a GET request to list datasets\n",
        "response = requests.get(url, auth=(username, key))\n",
        "\n",
        "# Check if the request was successful\n",
        "if response.status_code == 200:\n",
        "    datasets = response.json()\n",
        "    for dataset in datasets:\n",
        "        print(f\"Dataset: {dataset['title']}, URL: {dataset['url']}\")\n",
        "else:\n",
        "    print(f\"Failed to fetch data. Status code: {response.status_code}\")"
      ],
      "metadata": {
        "colab": {
          "base_uri": "https://localhost:8080/"
        },
        "id": "uGgqSONiIGJ7",
        "outputId": "d61347ae-a782-44ee-b23c-9ab797629ef1"
      },
      "execution_count": 18,
      "outputs": [
        {
          "output_type": "stream",
          "name": "stdout",
          "text": [
            "Dataset: Car Price Dataset, URL: https://www.kaggle.com/datasets/asinow/car-price-dataset\n",
            "Dataset: sales dataset, URL: https://www.kaggle.com/datasets/vinothkannaece/sales-dataset\n",
            "Dataset: Global Traffic Accidents Dataset, URL: https://www.kaggle.com/datasets/adilshamim8/global-traffic-accidents-dataset\n",
            "Dataset: Sleep Cycle & Productivity, URL: https://www.kaggle.com/datasets/adilshamim8/sleep-cycle-and-productivity\n",
            "Dataset: Blinkit Sales Dataset, URL: https://www.kaggle.com/datasets/akxiit/blinkit-sales-dataset\n",
            "Dataset: Education & Career Success., URL: https://www.kaggle.com/datasets/adilshamim8/education-and-career-success\n",
            "Dataset: Google Stock Price Data (2020-2025) | GOOGL, URL: https://www.kaggle.com/datasets/mzohaibzeeshan/google-stock-price-data-2020-2025-googl\n",
            "Dataset: Netflix Movies and TV Shows, URL: https://www.kaggle.com/datasets/anandshaw2001/netflix-movies-and-tv-shows\n",
            "Dataset: Video Game Sales 2024, URL: https://www.kaggle.com/datasets/hosammhmdali/video-game-sales-2024\n",
            "Dataset: Mobiles Dataset (2025), URL: https://www.kaggle.com/datasets/abdulmalik1518/mobiles-dataset-2025\n",
            "Dataset: IMDb Movies Dataset, URL: https://www.kaggle.com/datasets/krishnanshverma/imdb-movies-dataset\n",
            "Dataset: Laptop Price Dataset, URL: https://www.kaggle.com/datasets/asinow/laptop-price-dataset\n",
            "Dataset: Zomato Dataset, URL: https://www.kaggle.com/datasets/ruchikakumbhar/zomato-dataset\n",
            "Dataset: Schizophrenia Dataset, URL: https://www.kaggle.com/datasets/asinow/schizohealth-dataset\n",
            "Dataset: Academic Performance of University Student Dataset, URL: https://www.kaggle.com/datasets/krishnanshverma/academic-performance-of-university-student-dataset\n",
            "Dataset: Car Sales Analysis Dashboard|Tableau Visualization, URL: https://www.kaggle.com/datasets/safaeahb/car-sales-analysis-dashboard\n",
            "Dataset: E-Commerce Forecasting For Sales, URL: https://www.kaggle.com/datasets/gauravduttakiit/e-commerce-forecasting-for-sales\n",
            "Dataset: European Football Matches, URL: https://www.kaggle.com/datasets/flynn28/european-football-matches\n",
            "Dataset: NVIDIA Stocks Data 2025, URL: https://www.kaggle.com/datasets/meharshanali/nvidia-stocks-data-2025\n",
            "Dataset: Most popular 1000 Youtube videos, URL: https://www.kaggle.com/datasets/samithsachidanandan/most-popular-1000-youtube-videos\n"
          ]
        }
      ]
    },
    {
      "cell_type": "code",
      "source": [
        "\n",
        "\n",
        "# Set up Kaggle API credentials\n",
        "import os\n",
        "os.environ['KAGGLE_USERNAME'] = 'barbie2345678'  # Replace with your Kaggle username\n",
        "os.environ['KAGGLE_KEY'] = '4b9b5db9860130396416b970f2392be2'  # Replace with your Kaggle API key\n",
        "\n",
        "# Download the dataset\n",
        "!kaggle datasets download -d shrutimehta/zomato-restaurants-data\n",
        "\n",
        "# Unzip the dataset\n",
        "import zipfile\n",
        "with zipfile.ZipFile('zomato-restaurants-data.zip', 'r') as zip_ref:\n",
        "    zip_ref.extractall('zomato-data')\n",
        "\n",
        "print(\"Dataset downloaded and unzipped successfully.\")"
      ],
      "metadata": {
        "colab": {
          "base_uri": "https://localhost:8080/"
        },
        "id": "MjpIrC6bILX0",
        "outputId": "469047a1-7fef-4ddc-f3d6-5fa562b532db"
      },
      "execution_count": 20,
      "outputs": [
        {
          "output_type": "stream",
          "name": "stdout",
          "text": [
            "Dataset URL: https://www.kaggle.com/datasets/shrutimehta/zomato-restaurants-data\n",
            "License(s): CC0-1.0\n",
            "zomato-restaurants-data.zip: Skipping, found more recently modified local copy (use --force to force download)\n",
            "Dataset downloaded and unzipped successfully.\n"
          ]
        }
      ]
    },
    {
      "cell_type": "code",
      "source": [
        "import requests\n",
        "import json\n",
        "\n",
        "# Load Kaggle API credentials\n",
        "with open('/content/kaggle.json', 'r') as file:\n",
        "    credentials = json.load(file)\n",
        "\n",
        "username = credentials['username']\n",
        "key = credentials['key']\n",
        "\n",
        "# Correct Kaggle API endpoint\n",
        "dataset_url = \"https://www.kaggle.com/datasets/shrutimehta/zomato-restaurants-data\"\n",
        "\n",
        "# Make a GET request to download the dataset\n",
        "response = requests.get(dataset_url, auth=(username, key))\n",
        "\n",
        "# Save the dataset to a file\n",
        "if response.status_code == 200:\n",
        "    with open('zomato-restaurants-data.zip', 'wb') as file:\n",
        "        file.write(response.content)\n",
        "    print(\"Dataset downloaded successfully.\")\n",
        "else:\n",
        "    print(f\"Failed to download dataset. Status code: {response.status_code}\")\n",
        "    print(response.text)  # Print the error message for debugging"
      ],
      "metadata": {
        "colab": {
          "base_uri": "https://localhost:8080/"
        },
        "id": "cnwSuJNPMtKV",
        "outputId": "c9d4ca8f-6ae9-4ca1-e8a5-69493bb561b0"
      },
      "execution_count": 21,
      "outputs": [
        {
          "output_type": "stream",
          "name": "stdout",
          "text": [
            "Dataset downloaded successfully.\n"
          ]
        }
      ]
    },
    {
      "cell_type": "code",
      "source": [
        "\n",
        "\n",
        "# Upload your Kaggle API key (kaggle.json)\n",
        "from google.colab import files\n",
        "files.upload()  # Upload your kaggle.json file here\n",
        "\n",
        "# Set up Kaggle API credentials\n",
        "!mkdir -p ~/.kaggle\n",
        "!cp kaggle.json ~/.kaggle/\n",
        "!chmod 600 ~/.kaggle/kaggle.json\n",
        "\n",
        "# Download Zomato dataset\n",
        "!kaggle datasets download -d himankk347/zomato-restaurants-data\n",
        "\n",
        "# Download Swiggy dataset (replace with the correct dataset name)\n",
        "# Example: !kaggle datasets download -d <owner>/<dataset-name>\n",
        "!kaggle datasets download -d <owner>/swiggy-restaurants-data  # Replace with actual Swiggy dataset\n",
        "\n",
        "# Unzip both datasets\n",
        "import zipfile\n",
        "\n",
        "# Unzip Zomato dataset\n",
        "with zipfile.ZipFile('zomato-restaurants-data.zip', 'r') as zip_ref:\n",
        "    zip_ref.extractall('zomato-data')\n",
        "\n",
        "# Unzip Swiggy dataset\n",
        "with zipfile.ZipFile('swiggy-restaurants-data.zip', 'r') as zip_ref:\n",
        "    zip_ref.extractall('swiggy-data')\n",
        "\n",
        "print(\"Datasets downloaded and unzipped successfully.\")"
      ],
      "metadata": {
        "id": "ppN-0TBPM9GK"
      },
      "execution_count": null,
      "outputs": []
    },
    {
      "cell_type": "code",
      "source": [
        "from google.colab import files\n",
        "files.upload()  # Upload your kaggle.json file here"
      ],
      "metadata": {
        "colab": {
          "base_uri": "https://localhost:8080/",
          "height": 90
        },
        "id": "bvQCOrTxPyDl",
        "outputId": "1e818e1a-f3a3-475d-d056-1a495ec4eeae"
      },
      "execution_count": 24,
      "outputs": [
        {
          "output_type": "display_data",
          "data": {
            "text/plain": [
              "<IPython.core.display.HTML object>"
            ],
            "text/html": [
              "\n",
              "     <input type=\"file\" id=\"files-e577eae2-1d9c-41bb-9490-76e28df8f678\" name=\"files[]\" multiple disabled\n",
              "        style=\"border:none\" />\n",
              "     <output id=\"result-e577eae2-1d9c-41bb-9490-76e28df8f678\">\n",
              "      Upload widget is only available when the cell has been executed in the\n",
              "      current browser session. Please rerun this cell to enable.\n",
              "      </output>\n",
              "      <script>// Copyright 2017 Google LLC\n",
              "//\n",
              "// Licensed under the Apache License, Version 2.0 (the \"License\");\n",
              "// you may not use this file except in compliance with the License.\n",
              "// You may obtain a copy of the License at\n",
              "//\n",
              "//      http://www.apache.org/licenses/LICENSE-2.0\n",
              "//\n",
              "// Unless required by applicable law or agreed to in writing, software\n",
              "// distributed under the License is distributed on an \"AS IS\" BASIS,\n",
              "// WITHOUT WARRANTIES OR CONDITIONS OF ANY KIND, either express or implied.\n",
              "// See the License for the specific language governing permissions and\n",
              "// limitations under the License.\n",
              "\n",
              "/**\n",
              " * @fileoverview Helpers for google.colab Python module.\n",
              " */\n",
              "(function(scope) {\n",
              "function span(text, styleAttributes = {}) {\n",
              "  const element = document.createElement('span');\n",
              "  element.textContent = text;\n",
              "  for (const key of Object.keys(styleAttributes)) {\n",
              "    element.style[key] = styleAttributes[key];\n",
              "  }\n",
              "  return element;\n",
              "}\n",
              "\n",
              "// Max number of bytes which will be uploaded at a time.\n",
              "const MAX_PAYLOAD_SIZE = 100 * 1024;\n",
              "\n",
              "function _uploadFiles(inputId, outputId) {\n",
              "  const steps = uploadFilesStep(inputId, outputId);\n",
              "  const outputElement = document.getElementById(outputId);\n",
              "  // Cache steps on the outputElement to make it available for the next call\n",
              "  // to uploadFilesContinue from Python.\n",
              "  outputElement.steps = steps;\n",
              "\n",
              "  return _uploadFilesContinue(outputId);\n",
              "}\n",
              "\n",
              "// This is roughly an async generator (not supported in the browser yet),\n",
              "// where there are multiple asynchronous steps and the Python side is going\n",
              "// to poll for completion of each step.\n",
              "// This uses a Promise to block the python side on completion of each step,\n",
              "// then passes the result of the previous step as the input to the next step.\n",
              "function _uploadFilesContinue(outputId) {\n",
              "  const outputElement = document.getElementById(outputId);\n",
              "  const steps = outputElement.steps;\n",
              "\n",
              "  const next = steps.next(outputElement.lastPromiseValue);\n",
              "  return Promise.resolve(next.value.promise).then((value) => {\n",
              "    // Cache the last promise value to make it available to the next\n",
              "    // step of the generator.\n",
              "    outputElement.lastPromiseValue = value;\n",
              "    return next.value.response;\n",
              "  });\n",
              "}\n",
              "\n",
              "/**\n",
              " * Generator function which is called between each async step of the upload\n",
              " * process.\n",
              " * @param {string} inputId Element ID of the input file picker element.\n",
              " * @param {string} outputId Element ID of the output display.\n",
              " * @return {!Iterable<!Object>} Iterable of next steps.\n",
              " */\n",
              "function* uploadFilesStep(inputId, outputId) {\n",
              "  const inputElement = document.getElementById(inputId);\n",
              "  inputElement.disabled = false;\n",
              "\n",
              "  const outputElement = document.getElementById(outputId);\n",
              "  outputElement.innerHTML = '';\n",
              "\n",
              "  const pickedPromise = new Promise((resolve) => {\n",
              "    inputElement.addEventListener('change', (e) => {\n",
              "      resolve(e.target.files);\n",
              "    });\n",
              "  });\n",
              "\n",
              "  const cancel = document.createElement('button');\n",
              "  inputElement.parentElement.appendChild(cancel);\n",
              "  cancel.textContent = 'Cancel upload';\n",
              "  const cancelPromise = new Promise((resolve) => {\n",
              "    cancel.onclick = () => {\n",
              "      resolve(null);\n",
              "    };\n",
              "  });\n",
              "\n",
              "  // Wait for the user to pick the files.\n",
              "  const files = yield {\n",
              "    promise: Promise.race([pickedPromise, cancelPromise]),\n",
              "    response: {\n",
              "      action: 'starting',\n",
              "    }\n",
              "  };\n",
              "\n",
              "  cancel.remove();\n",
              "\n",
              "  // Disable the input element since further picks are not allowed.\n",
              "  inputElement.disabled = true;\n",
              "\n",
              "  if (!files) {\n",
              "    return {\n",
              "      response: {\n",
              "        action: 'complete',\n",
              "      }\n",
              "    };\n",
              "  }\n",
              "\n",
              "  for (const file of files) {\n",
              "    const li = document.createElement('li');\n",
              "    li.append(span(file.name, {fontWeight: 'bold'}));\n",
              "    li.append(span(\n",
              "        `(${file.type || 'n/a'}) - ${file.size} bytes, ` +\n",
              "        `last modified: ${\n",
              "            file.lastModifiedDate ? file.lastModifiedDate.toLocaleDateString() :\n",
              "                                    'n/a'} - `));\n",
              "    const percent = span('0% done');\n",
              "    li.appendChild(percent);\n",
              "\n",
              "    outputElement.appendChild(li);\n",
              "\n",
              "    const fileDataPromise = new Promise((resolve) => {\n",
              "      const reader = new FileReader();\n",
              "      reader.onload = (e) => {\n",
              "        resolve(e.target.result);\n",
              "      };\n",
              "      reader.readAsArrayBuffer(file);\n",
              "    });\n",
              "    // Wait for the data to be ready.\n",
              "    let fileData = yield {\n",
              "      promise: fileDataPromise,\n",
              "      response: {\n",
              "        action: 'continue',\n",
              "      }\n",
              "    };\n",
              "\n",
              "    // Use a chunked sending to avoid message size limits. See b/62115660.\n",
              "    let position = 0;\n",
              "    do {\n",
              "      const length = Math.min(fileData.byteLength - position, MAX_PAYLOAD_SIZE);\n",
              "      const chunk = new Uint8Array(fileData, position, length);\n",
              "      position += length;\n",
              "\n",
              "      const base64 = btoa(String.fromCharCode.apply(null, chunk));\n",
              "      yield {\n",
              "        response: {\n",
              "          action: 'append',\n",
              "          file: file.name,\n",
              "          data: base64,\n",
              "        },\n",
              "      };\n",
              "\n",
              "      let percentDone = fileData.byteLength === 0 ?\n",
              "          100 :\n",
              "          Math.round((position / fileData.byteLength) * 100);\n",
              "      percent.textContent = `${percentDone}% done`;\n",
              "\n",
              "    } while (position < fileData.byteLength);\n",
              "  }\n",
              "\n",
              "  // All done.\n",
              "  yield {\n",
              "    response: {\n",
              "      action: 'complete',\n",
              "    }\n",
              "  };\n",
              "}\n",
              "\n",
              "scope.google = scope.google || {};\n",
              "scope.google.colab = scope.google.colab || {};\n",
              "scope.google.colab._files = {\n",
              "  _uploadFiles,\n",
              "  _uploadFilesContinue,\n",
              "};\n",
              "})(self);\n",
              "</script> "
            ]
          },
          "metadata": {}
        },
        {
          "output_type": "stream",
          "name": "stdout",
          "text": [
            "Saving kaggle.json to kaggle (1).json\n"
          ]
        },
        {
          "output_type": "execute_result",
          "data": {
            "text/plain": [
              "{'kaggle (1).json': b'{\"username\":\"barbie2345678\",\"key\":\"4b9b5db9860130396416b970f2392be2\"}'}"
            ]
          },
          "metadata": {},
          "execution_count": 24
        }
      ]
    },
    {
      "cell_type": "code",
      "source": [
        "!mkdir -p ~/.kaggle\n",
        "!cp kaggle.json ~/.kaggle/\n",
        "!chmod 600 ~/.kaggle/kaggle.json"
      ],
      "metadata": {
        "id": "nt3fk8dNP5Ya"
      },
      "execution_count": 25,
      "outputs": []
    },
    {
      "cell_type": "code",
      "source": [
        "# Download Swiggy dataset\n",
        "!kaggle datasets download -d abhijitdahatonde/swiggy-restuarant-dataset -o swiggy-restuarant-dataset.zip\n",
        "\n",
        "# Unzip the Swiggy dataset\n",
        "import zipfile\n",
        "with zipfile.ZipFile('swiggy-restuarant-dataset.zip', 'r') as zip_ref:\n",
        "    zip_ref.extractall('swiggy-data')\n",
        "\n",
        "print(\"Swiggy dataset downloaded and unzipped successfully.\")"
      ],
      "metadata": {
        "colab": {
          "base_uri": "https://localhost:8080/"
        },
        "id": "O6SZD3NGO0UC",
        "outputId": "fb6fb5f8-c2b7-4a17-bc1a-5daa394c6f8b"
      },
      "execution_count": 26,
      "outputs": [
        {
          "output_type": "stream",
          "name": "stdout",
          "text": [
            "403 - Forbidden - Permission 'datasets.get' was denied\n",
            "Swiggy dataset downloaded and unzipped successfully.\n"
          ]
        }
      ]
    },
    {
      "cell_type": "code",
      "source": [
        "import pandas as pd\n",
        "\n",
        "# Load Swiggy dataset\n",
        "swiggy_df = pd.read_csv('swiggy-data/swiggy.csv')  # Replace with the actual file name\n",
        "\n",
        "# Display the first few rows\n",
        "print(\"Swiggy Dataset:\")\n",
        "print(swiggy_df.head())\n",
        "\n",
        "# Check for the correct column name for price\n",
        "print(swiggy_df.columns)  # Print all column names\n",
        "\n",
        "# Clean and preprocess the Swiggy dataset\n",
        "swiggy_df = swiggy_df.drop_duplicates()  # Remove duplicates\n",
        "swiggy_df = swiggy_df.dropna()  # Remove missing values\n",
        "\n",
        "# Replace 'price' with the actual column name for price\n",
        "#"
      ],
      "metadata": {
        "colab": {
          "base_uri": "https://localhost:8080/"
        },
        "id": "g2zibc5vP96o",
        "outputId": "e69cb357-a8df-41e8-e455-986e79c4e406"
      },
      "execution_count": 28,
      "outputs": [
        {
          "output_type": "stream",
          "name": "stdout",
          "text": [
            "Swiggy Dataset:\n",
            "    ID         Area       City         Restaurant  Price  Avg ratings  \\\n",
            "0  211  Koramangala  Bangalore        Tandoor Hut  300.0          4.4   \n",
            "1  221  Koramangala  Bangalore      Tunday Kababi  300.0          4.1   \n",
            "2  246    Jogupalya  Bangalore            Kim Lee  650.0          4.4   \n",
            "3  248  Indiranagar  Bangalore  New Punjabi Hotel  250.0          3.9   \n",
            "4  249  Indiranagar  Bangalore                Nh8  350.0          4.0   \n",
            "\n",
            "   Total ratings                                          Food type  \\\n",
            "0            100          Biryani,Chinese,North Indian,South Indian   \n",
            "1            100                                   Mughlai,Lucknowi   \n",
            "2            100                                            Chinese   \n",
            "3            500               North Indian,Punjabi,Tandoor,Chinese   \n",
            "4             50  Rajasthani,Gujarati,North Indian,Snacks,Desser...   \n",
            "\n",
            "        Address  Delivery time  \n",
            "0     5Th Block             59  \n",
            "1     5Th Block             56  \n",
            "2   Double Road             50  \n",
            "3  80 Feet Road             57  \n",
            "4  80 Feet Road             63  \n",
            "Index(['ID', 'Area', 'City', 'Restaurant', 'Price', 'Avg ratings',\n",
            "       'Total ratings', 'Food type', 'Address', 'Delivery time'],\n",
            "      dtype='object')\n"
          ]
        }
      ]
    },
    {
      "cell_type": "code",
      "source": [
        "# Load Zomato dataset (already uploaded)\n",
        "zomato_df = pd.read_csv('zomato-data/zomato.csv', encoding='latin-1')  # or encoding='ISO-8859-1'\n",
        "\n",
        "# Clean and preprocess Zomato dataset\n",
        "zomato_df = zomato_df.drop_duplicates()\n",
        "zomato_df = zomato_df.dropna()\n",
        "zomato_df['price'] = pd.to_numeric(zomato_df['price'], errors='coerce')\n",
        "\n",
        "# Merge datasets on restaurant name\n",
        "merged_df = pd.merge(zomato_df, swiggy_df, on='restaurant_name', suffixes=('_zomato', '_swiggy'))\n",
        "\n",
        "# Compare prices\n",
        "merged_df['price_difference'] = merged_df['price_zomato'] - merged_df['price_swiggy']\n",
        "\n",
        "# Display restaurants with the largest price differences\n",
        "print(\"Restaurants with the largest price differences:\")\n",
        "print(merged_df[['restaurant_name', 'price_zomato', 'price_swiggy', 'price_difference']].sort_values(by='price_difference', ascending=False).head(10))"
      ],
      "metadata": {
        "colab": {
          "base_uri": "https://localhost:8080/",
          "height": 547
        },
        "id": "jGTAZP51QIdq",
        "outputId": "e3fda425-1125-4a61-c323-fecf8bfb7d77"
      },
      "execution_count": 31,
      "outputs": [
        {
          "output_type": "error",
          "ename": "KeyError",
          "evalue": "'price'",
          "traceback": [
            "\u001b[0;31m---------------------------------------------------------------------------\u001b[0m",
            "\u001b[0;31mKeyError\u001b[0m                                  Traceback (most recent call last)",
            "\u001b[0;32m/usr/local/lib/python3.11/dist-packages/pandas/core/indexes/base.py\u001b[0m in \u001b[0;36mget_loc\u001b[0;34m(self, key)\u001b[0m\n\u001b[1;32m   3804\u001b[0m         \u001b[0;32mtry\u001b[0m\u001b[0;34m:\u001b[0m\u001b[0;34m\u001b[0m\u001b[0;34m\u001b[0m\u001b[0m\n\u001b[0;32m-> 3805\u001b[0;31m             \u001b[0;32mreturn\u001b[0m \u001b[0mself\u001b[0m\u001b[0;34m.\u001b[0m\u001b[0m_engine\u001b[0m\u001b[0;34m.\u001b[0m\u001b[0mget_loc\u001b[0m\u001b[0;34m(\u001b[0m\u001b[0mcasted_key\u001b[0m\u001b[0;34m)\u001b[0m\u001b[0;34m\u001b[0m\u001b[0;34m\u001b[0m\u001b[0m\n\u001b[0m\u001b[1;32m   3806\u001b[0m         \u001b[0;32mexcept\u001b[0m \u001b[0mKeyError\u001b[0m \u001b[0;32mas\u001b[0m \u001b[0merr\u001b[0m\u001b[0;34m:\u001b[0m\u001b[0;34m\u001b[0m\u001b[0;34m\u001b[0m\u001b[0m\n",
            "\u001b[0;32mindex.pyx\u001b[0m in \u001b[0;36mpandas._libs.index.IndexEngine.get_loc\u001b[0;34m()\u001b[0m\n",
            "\u001b[0;32mindex.pyx\u001b[0m in \u001b[0;36mpandas._libs.index.IndexEngine.get_loc\u001b[0;34m()\u001b[0m\n",
            "\u001b[0;32mpandas/_libs/hashtable_class_helper.pxi\u001b[0m in \u001b[0;36mpandas._libs.hashtable.PyObjectHashTable.get_item\u001b[0;34m()\u001b[0m\n",
            "\u001b[0;32mpandas/_libs/hashtable_class_helper.pxi\u001b[0m in \u001b[0;36mpandas._libs.hashtable.PyObjectHashTable.get_item\u001b[0;34m()\u001b[0m\n",
            "\u001b[0;31mKeyError\u001b[0m: 'price'",
            "\nThe above exception was the direct cause of the following exception:\n",
            "\u001b[0;31mKeyError\u001b[0m                                  Traceback (most recent call last)",
            "\u001b[0;32m<ipython-input-31-edff6a75baed>\u001b[0m in \u001b[0;36m<cell line: 0>\u001b[0;34m()\u001b[0m\n\u001b[1;32m      5\u001b[0m \u001b[0mzomato_df\u001b[0m \u001b[0;34m=\u001b[0m \u001b[0mzomato_df\u001b[0m\u001b[0;34m.\u001b[0m\u001b[0mdrop_duplicates\u001b[0m\u001b[0;34m(\u001b[0m\u001b[0;34m)\u001b[0m\u001b[0;34m\u001b[0m\u001b[0;34m\u001b[0m\u001b[0m\n\u001b[1;32m      6\u001b[0m \u001b[0mzomato_df\u001b[0m \u001b[0;34m=\u001b[0m \u001b[0mzomato_df\u001b[0m\u001b[0;34m.\u001b[0m\u001b[0mdropna\u001b[0m\u001b[0;34m(\u001b[0m\u001b[0;34m)\u001b[0m\u001b[0;34m\u001b[0m\u001b[0;34m\u001b[0m\u001b[0m\n\u001b[0;32m----> 7\u001b[0;31m \u001b[0mzomato_df\u001b[0m\u001b[0;34m[\u001b[0m\u001b[0;34m'price'\u001b[0m\u001b[0;34m]\u001b[0m \u001b[0;34m=\u001b[0m \u001b[0mpd\u001b[0m\u001b[0;34m.\u001b[0m\u001b[0mto_numeric\u001b[0m\u001b[0;34m(\u001b[0m\u001b[0mzomato_df\u001b[0m\u001b[0;34m[\u001b[0m\u001b[0;34m'price'\u001b[0m\u001b[0;34m]\u001b[0m\u001b[0;34m,\u001b[0m \u001b[0merrors\u001b[0m\u001b[0;34m=\u001b[0m\u001b[0;34m'coerce'\u001b[0m\u001b[0;34m)\u001b[0m\u001b[0;34m\u001b[0m\u001b[0;34m\u001b[0m\u001b[0m\n\u001b[0m\u001b[1;32m      8\u001b[0m \u001b[0;34m\u001b[0m\u001b[0m\n\u001b[1;32m      9\u001b[0m \u001b[0;31m# Merge datasets on restaurant name\u001b[0m\u001b[0;34m\u001b[0m\u001b[0;34m\u001b[0m\u001b[0m\n",
            "\u001b[0;32m/usr/local/lib/python3.11/dist-packages/pandas/core/frame.py\u001b[0m in \u001b[0;36m__getitem__\u001b[0;34m(self, key)\u001b[0m\n\u001b[1;32m   4100\u001b[0m             \u001b[0;32mif\u001b[0m \u001b[0mself\u001b[0m\u001b[0;34m.\u001b[0m\u001b[0mcolumns\u001b[0m\u001b[0;34m.\u001b[0m\u001b[0mnlevels\u001b[0m \u001b[0;34m>\u001b[0m \u001b[0;36m1\u001b[0m\u001b[0;34m:\u001b[0m\u001b[0;34m\u001b[0m\u001b[0;34m\u001b[0m\u001b[0m\n\u001b[1;32m   4101\u001b[0m                 \u001b[0;32mreturn\u001b[0m \u001b[0mself\u001b[0m\u001b[0;34m.\u001b[0m\u001b[0m_getitem_multilevel\u001b[0m\u001b[0;34m(\u001b[0m\u001b[0mkey\u001b[0m\u001b[0;34m)\u001b[0m\u001b[0;34m\u001b[0m\u001b[0;34m\u001b[0m\u001b[0m\n\u001b[0;32m-> 4102\u001b[0;31m             \u001b[0mindexer\u001b[0m \u001b[0;34m=\u001b[0m \u001b[0mself\u001b[0m\u001b[0;34m.\u001b[0m\u001b[0mcolumns\u001b[0m\u001b[0;34m.\u001b[0m\u001b[0mget_loc\u001b[0m\u001b[0;34m(\u001b[0m\u001b[0mkey\u001b[0m\u001b[0;34m)\u001b[0m\u001b[0;34m\u001b[0m\u001b[0;34m\u001b[0m\u001b[0m\n\u001b[0m\u001b[1;32m   4103\u001b[0m             \u001b[0;32mif\u001b[0m \u001b[0mis_integer\u001b[0m\u001b[0;34m(\u001b[0m\u001b[0mindexer\u001b[0m\u001b[0;34m)\u001b[0m\u001b[0;34m:\u001b[0m\u001b[0;34m\u001b[0m\u001b[0;34m\u001b[0m\u001b[0m\n\u001b[1;32m   4104\u001b[0m                 \u001b[0mindexer\u001b[0m \u001b[0;34m=\u001b[0m \u001b[0;34m[\u001b[0m\u001b[0mindexer\u001b[0m\u001b[0;34m]\u001b[0m\u001b[0;34m\u001b[0m\u001b[0;34m\u001b[0m\u001b[0m\n",
            "\u001b[0;32m/usr/local/lib/python3.11/dist-packages/pandas/core/indexes/base.py\u001b[0m in \u001b[0;36mget_loc\u001b[0;34m(self, key)\u001b[0m\n\u001b[1;32m   3810\u001b[0m             ):\n\u001b[1;32m   3811\u001b[0m                 \u001b[0;32mraise\u001b[0m \u001b[0mInvalidIndexError\u001b[0m\u001b[0;34m(\u001b[0m\u001b[0mkey\u001b[0m\u001b[0;34m)\u001b[0m\u001b[0;34m\u001b[0m\u001b[0;34m\u001b[0m\u001b[0m\n\u001b[0;32m-> 3812\u001b[0;31m             \u001b[0;32mraise\u001b[0m \u001b[0mKeyError\u001b[0m\u001b[0;34m(\u001b[0m\u001b[0mkey\u001b[0m\u001b[0;34m)\u001b[0m \u001b[0;32mfrom\u001b[0m \u001b[0merr\u001b[0m\u001b[0;34m\u001b[0m\u001b[0;34m\u001b[0m\u001b[0m\n\u001b[0m\u001b[1;32m   3813\u001b[0m         \u001b[0;32mexcept\u001b[0m \u001b[0mTypeError\u001b[0m\u001b[0;34m:\u001b[0m\u001b[0;34m\u001b[0m\u001b[0;34m\u001b[0m\u001b[0m\n\u001b[1;32m   3814\u001b[0m             \u001b[0;31m# If we have a listlike key, _check_indexing_error will raise\u001b[0m\u001b[0;34m\u001b[0m\u001b[0;34m\u001b[0m\u001b[0m\n",
            "\u001b[0;31mKeyError\u001b[0m: 'price'"
          ]
        }
      ]
    },
    {
      "source": [
        "# Load Zomato dataset (already uploaded)\n",
        "zomato_df = pd.read_csv('zomato-data/zomato.csv', encoding='latin-1')  # or encoding='ISO-8859-1'\n",
        "\n",
        "# Clean and preprocess Zomato dataset\n",
        "zomato_df = zomato_df.drop_duplicates()\n",
        "zomato_df = zomato_df.dropna()\n",
        "zomato_df['price'] = pd.to_numeric(zomato_df['price'], errors='coerce')\n",
        "\n",
        "# Merge datasets on restaurant name\n",
        "merged_df = pd.merge(zomato_df, swiggy_df, on='restaurant_name', suffixes=('_zomato', '_swiggy'))\n",
        "\n",
        "# Compare prices\n",
        "merged_df['price_difference'] = merged_df['price_zomato'] - merged_df['price_swiggy']\n",
        "\n",
        "# Display restaurants with the largest price differences\n",
        "print(\"Restaurants with the largest price differences:\")\n",
        "print(merged_df[['restaurant_name', 'price_zomato', 'price_swiggy', 'price_difference']].sort_values(by='price_difference', ascending=False).head(10))"
      ],
      "cell_type": "code",
      "metadata": {
        "colab": {
          "base_uri": "https://localhost:8080/",
          "height": 547
        },
        "id": "e1CfA7DGQtgE",
        "outputId": "a2f2e603-7e95-444f-87c5-46b275291042"
      },
      "execution_count": 32,
      "outputs": [
        {
          "output_type": "error",
          "ename": "KeyError",
          "evalue": "'price'",
          "traceback": [
            "\u001b[0;31m---------------------------------------------------------------------------\u001b[0m",
            "\u001b[0;31mKeyError\u001b[0m                                  Traceback (most recent call last)",
            "\u001b[0;32m/usr/local/lib/python3.11/dist-packages/pandas/core/indexes/base.py\u001b[0m in \u001b[0;36mget_loc\u001b[0;34m(self, key)\u001b[0m\n\u001b[1;32m   3804\u001b[0m         \u001b[0;32mtry\u001b[0m\u001b[0;34m:\u001b[0m\u001b[0;34m\u001b[0m\u001b[0;34m\u001b[0m\u001b[0m\n\u001b[0;32m-> 3805\u001b[0;31m             \u001b[0;32mreturn\u001b[0m \u001b[0mself\u001b[0m\u001b[0;34m.\u001b[0m\u001b[0m_engine\u001b[0m\u001b[0;34m.\u001b[0m\u001b[0mget_loc\u001b[0m\u001b[0;34m(\u001b[0m\u001b[0mcasted_key\u001b[0m\u001b[0;34m)\u001b[0m\u001b[0;34m\u001b[0m\u001b[0;34m\u001b[0m\u001b[0m\n\u001b[0m\u001b[1;32m   3806\u001b[0m         \u001b[0;32mexcept\u001b[0m \u001b[0mKeyError\u001b[0m \u001b[0;32mas\u001b[0m \u001b[0merr\u001b[0m\u001b[0;34m:\u001b[0m\u001b[0;34m\u001b[0m\u001b[0;34m\u001b[0m\u001b[0m\n",
            "\u001b[0;32mindex.pyx\u001b[0m in \u001b[0;36mpandas._libs.index.IndexEngine.get_loc\u001b[0;34m()\u001b[0m\n",
            "\u001b[0;32mindex.pyx\u001b[0m in \u001b[0;36mpandas._libs.index.IndexEngine.get_loc\u001b[0;34m()\u001b[0m\n",
            "\u001b[0;32mpandas/_libs/hashtable_class_helper.pxi\u001b[0m in \u001b[0;36mpandas._libs.hashtable.PyObjectHashTable.get_item\u001b[0;34m()\u001b[0m\n",
            "\u001b[0;32mpandas/_libs/hashtable_class_helper.pxi\u001b[0m in \u001b[0;36mpandas._libs.hashtable.PyObjectHashTable.get_item\u001b[0;34m()\u001b[0m\n",
            "\u001b[0;31mKeyError\u001b[0m: 'price'",
            "\nThe above exception was the direct cause of the following exception:\n",
            "\u001b[0;31mKeyError\u001b[0m                                  Traceback (most recent call last)",
            "\u001b[0;32m<ipython-input-32-edff6a75baed>\u001b[0m in \u001b[0;36m<cell line: 0>\u001b[0;34m()\u001b[0m\n\u001b[1;32m      5\u001b[0m \u001b[0mzomato_df\u001b[0m \u001b[0;34m=\u001b[0m \u001b[0mzomato_df\u001b[0m\u001b[0;34m.\u001b[0m\u001b[0mdrop_duplicates\u001b[0m\u001b[0;34m(\u001b[0m\u001b[0;34m)\u001b[0m\u001b[0;34m\u001b[0m\u001b[0;34m\u001b[0m\u001b[0m\n\u001b[1;32m      6\u001b[0m \u001b[0mzomato_df\u001b[0m \u001b[0;34m=\u001b[0m \u001b[0mzomato_df\u001b[0m\u001b[0;34m.\u001b[0m\u001b[0mdropna\u001b[0m\u001b[0;34m(\u001b[0m\u001b[0;34m)\u001b[0m\u001b[0;34m\u001b[0m\u001b[0;34m\u001b[0m\u001b[0m\n\u001b[0;32m----> 7\u001b[0;31m \u001b[0mzomato_df\u001b[0m\u001b[0;34m[\u001b[0m\u001b[0;34m'price'\u001b[0m\u001b[0;34m]\u001b[0m \u001b[0;34m=\u001b[0m \u001b[0mpd\u001b[0m\u001b[0;34m.\u001b[0m\u001b[0mto_numeric\u001b[0m\u001b[0;34m(\u001b[0m\u001b[0mzomato_df\u001b[0m\u001b[0;34m[\u001b[0m\u001b[0;34m'price'\u001b[0m\u001b[0;34m]\u001b[0m\u001b[0;34m,\u001b[0m \u001b[0merrors\u001b[0m\u001b[0;34m=\u001b[0m\u001b[0;34m'coerce'\u001b[0m\u001b[0;34m)\u001b[0m\u001b[0;34m\u001b[0m\u001b[0;34m\u001b[0m\u001b[0m\n\u001b[0m\u001b[1;32m      8\u001b[0m \u001b[0;34m\u001b[0m\u001b[0m\n\u001b[1;32m      9\u001b[0m \u001b[0;31m# Merge datasets on restaurant name\u001b[0m\u001b[0;34m\u001b[0m\u001b[0;34m\u001b[0m\u001b[0m\n",
            "\u001b[0;32m/usr/local/lib/python3.11/dist-packages/pandas/core/frame.py\u001b[0m in \u001b[0;36m__getitem__\u001b[0;34m(self, key)\u001b[0m\n\u001b[1;32m   4100\u001b[0m             \u001b[0;32mif\u001b[0m \u001b[0mself\u001b[0m\u001b[0;34m.\u001b[0m\u001b[0mcolumns\u001b[0m\u001b[0;34m.\u001b[0m\u001b[0mnlevels\u001b[0m \u001b[0;34m>\u001b[0m \u001b[0;36m1\u001b[0m\u001b[0;34m:\u001b[0m\u001b[0;34m\u001b[0m\u001b[0;34m\u001b[0m\u001b[0m\n\u001b[1;32m   4101\u001b[0m                 \u001b[0;32mreturn\u001b[0m \u001b[0mself\u001b[0m\u001b[0;34m.\u001b[0m\u001b[0m_getitem_multilevel\u001b[0m\u001b[0;34m(\u001b[0m\u001b[0mkey\u001b[0m\u001b[0;34m)\u001b[0m\u001b[0;34m\u001b[0m\u001b[0;34m\u001b[0m\u001b[0m\n\u001b[0;32m-> 4102\u001b[0;31m             \u001b[0mindexer\u001b[0m \u001b[0;34m=\u001b[0m \u001b[0mself\u001b[0m\u001b[0;34m.\u001b[0m\u001b[0mcolumns\u001b[0m\u001b[0;34m.\u001b[0m\u001b[0mget_loc\u001b[0m\u001b[0;34m(\u001b[0m\u001b[0mkey\u001b[0m\u001b[0;34m)\u001b[0m\u001b[0;34m\u001b[0m\u001b[0;34m\u001b[0m\u001b[0m\n\u001b[0m\u001b[1;32m   4103\u001b[0m             \u001b[0;32mif\u001b[0m \u001b[0mis_integer\u001b[0m\u001b[0;34m(\u001b[0m\u001b[0mindexer\u001b[0m\u001b[0;34m)\u001b[0m\u001b[0;34m:\u001b[0m\u001b[0;34m\u001b[0m\u001b[0;34m\u001b[0m\u001b[0m\n\u001b[1;32m   4104\u001b[0m                 \u001b[0mindexer\u001b[0m \u001b[0;34m=\u001b[0m \u001b[0;34m[\u001b[0m\u001b[0mindexer\u001b[0m\u001b[0;34m]\u001b[0m\u001b[0;34m\u001b[0m\u001b[0;34m\u001b[0m\u001b[0m\n",
            "\u001b[0;32m/usr/local/lib/python3.11/dist-packages/pandas/core/indexes/base.py\u001b[0m in \u001b[0;36mget_loc\u001b[0;34m(self, key)\u001b[0m\n\u001b[1;32m   3810\u001b[0m             ):\n\u001b[1;32m   3811\u001b[0m                 \u001b[0;32mraise\u001b[0m \u001b[0mInvalidIndexError\u001b[0m\u001b[0;34m(\u001b[0m\u001b[0mkey\u001b[0m\u001b[0;34m)\u001b[0m\u001b[0;34m\u001b[0m\u001b[0;34m\u001b[0m\u001b[0m\n\u001b[0;32m-> 3812\u001b[0;31m             \u001b[0;32mraise\u001b[0m \u001b[0mKeyError\u001b[0m\u001b[0;34m(\u001b[0m\u001b[0mkey\u001b[0m\u001b[0;34m)\u001b[0m \u001b[0;32mfrom\u001b[0m \u001b[0merr\u001b[0m\u001b[0;34m\u001b[0m\u001b[0;34m\u001b[0m\u001b[0m\n\u001b[0m\u001b[1;32m   3813\u001b[0m         \u001b[0;32mexcept\u001b[0m \u001b[0mTypeError\u001b[0m\u001b[0;34m:\u001b[0m\u001b[0;34m\u001b[0m\u001b[0;34m\u001b[0m\u001b[0m\n\u001b[1;32m   3814\u001b[0m             \u001b[0;31m# If we have a listlike key, _check_indexing_error will raise\u001b[0m\u001b[0;34m\u001b[0m\u001b[0;34m\u001b[0m\u001b[0m\n",
            "\u001b[0;31mKeyError\u001b[0m: 'price'"
          ]
        }
      ]
    },
    {
      "source": [
        "# Load Zomato dataset (already uploaded)\n",
        "zomato_df = pd.read_csv('zomato-data/zomato.csv', encoding='latin-1')  # or encoding='ISO-8859-1'\n",
        "\n",
        "# Clean and preprocess Zomato dataset\n",
        "zomato_df = zomato_df.drop_duplicates()\n",
        "zomato_df = zomato_df.dropna()\n",
        "\n",
        "# Check if 'Average Cost for two' is the price column and rename it\n",
        "if 'Average Cost for two' in zomato_df.columns:\n",
        "    zomato_df['price'] = pd.to_numeric(zomato_df['Average Cost for two'], errors='coerce')\n",
        "else:\n",
        "    # If not found, print available columns for debugging\n",
        "    print(\"Available columns in zomato_df:\", zomato_df.columns)\n",
        "    raise KeyError(\"'price' or 'Average Cost for two' column not found in zomato_df\")\n",
        "\n",
        "\n",
        "# Merge datasets on restaurant name\n",
        "merged_df = pd.merge(zomato_df, swiggy_df, on='restaurant_name', suffixes=('_zomato', '_swiggy'))\n",
        "\n",
        "# Compare prices\n",
        "merged_df['price_difference'] = merged_df['price_zomato'] - merged_df['price_swiggy']\n",
        "\n",
        "# Display restaurants with the largest price differences\n",
        "print(\"Restaurants with the largest price differences:\")\n",
        "print(merged_df[['restaurant_name', 'price_zomato', 'price_swiggy', 'price_difference']].sort_values(by='price_difference', ascending=False).head(10))"
      ],
      "cell_type": "code",
      "metadata": {
        "colab": {
          "base_uri": "https://localhost:8080/",
          "height": 356
        },
        "id": "0k16r2XoRCWE",
        "outputId": "f3974c70-1a0a-48bf-e3e1-24e5c980d353"
      },
      "execution_count": 34,
      "outputs": [
        {
          "output_type": "error",
          "ename": "KeyError",
          "evalue": "'restaurant_name'",
          "traceback": [
            "\u001b[0;31m---------------------------------------------------------------------------\u001b[0m",
            "\u001b[0;31mKeyError\u001b[0m                                  Traceback (most recent call last)",
            "\u001b[0;32m<ipython-input-34-a2a120707d02>\u001b[0m in \u001b[0;36m<cell line: 0>\u001b[0;34m()\u001b[0m\n\u001b[1;32m     16\u001b[0m \u001b[0;34m\u001b[0m\u001b[0m\n\u001b[1;32m     17\u001b[0m \u001b[0;31m# Merge datasets on restaurant name\u001b[0m\u001b[0;34m\u001b[0m\u001b[0;34m\u001b[0m\u001b[0m\n\u001b[0;32m---> 18\u001b[0;31m \u001b[0mmerged_df\u001b[0m \u001b[0;34m=\u001b[0m \u001b[0mpd\u001b[0m\u001b[0;34m.\u001b[0m\u001b[0mmerge\u001b[0m\u001b[0;34m(\u001b[0m\u001b[0mzomato_df\u001b[0m\u001b[0;34m,\u001b[0m \u001b[0mswiggy_df\u001b[0m\u001b[0;34m,\u001b[0m \u001b[0mon\u001b[0m\u001b[0;34m=\u001b[0m\u001b[0;34m'restaurant_name'\u001b[0m\u001b[0;34m,\u001b[0m \u001b[0msuffixes\u001b[0m\u001b[0;34m=\u001b[0m\u001b[0;34m(\u001b[0m\u001b[0;34m'_zomato'\u001b[0m\u001b[0;34m,\u001b[0m \u001b[0;34m'_swiggy'\u001b[0m\u001b[0;34m)\u001b[0m\u001b[0;34m)\u001b[0m\u001b[0;34m\u001b[0m\u001b[0;34m\u001b[0m\u001b[0m\n\u001b[0m\u001b[1;32m     19\u001b[0m \u001b[0;34m\u001b[0m\u001b[0m\n\u001b[1;32m     20\u001b[0m \u001b[0;31m# Compare prices\u001b[0m\u001b[0;34m\u001b[0m\u001b[0;34m\u001b[0m\u001b[0m\n",
            "\u001b[0;32m/usr/local/lib/python3.11/dist-packages/pandas/core/reshape/merge.py\u001b[0m in \u001b[0;36mmerge\u001b[0;34m(left, right, how, on, left_on, right_on, left_index, right_index, sort, suffixes, copy, indicator, validate)\u001b[0m\n\u001b[1;32m    168\u001b[0m         )\n\u001b[1;32m    169\u001b[0m     \u001b[0;32melse\u001b[0m\u001b[0;34m:\u001b[0m\u001b[0;34m\u001b[0m\u001b[0;34m\u001b[0m\u001b[0m\n\u001b[0;32m--> 170\u001b[0;31m         op = _MergeOperation(\n\u001b[0m\u001b[1;32m    171\u001b[0m             \u001b[0mleft_df\u001b[0m\u001b[0;34m,\u001b[0m\u001b[0;34m\u001b[0m\u001b[0;34m\u001b[0m\u001b[0m\n\u001b[1;32m    172\u001b[0m             \u001b[0mright_df\u001b[0m\u001b[0;34m,\u001b[0m\u001b[0;34m\u001b[0m\u001b[0;34m\u001b[0m\u001b[0m\n",
            "\u001b[0;32m/usr/local/lib/python3.11/dist-packages/pandas/core/reshape/merge.py\u001b[0m in \u001b[0;36m__init__\u001b[0;34m(self, left, right, how, on, left_on, right_on, left_index, right_index, sort, suffixes, indicator, validate)\u001b[0m\n\u001b[1;32m    792\u001b[0m             \u001b[0mleft_drop\u001b[0m\u001b[0;34m,\u001b[0m\u001b[0;34m\u001b[0m\u001b[0;34m\u001b[0m\u001b[0m\n\u001b[1;32m    793\u001b[0m             \u001b[0mright_drop\u001b[0m\u001b[0;34m,\u001b[0m\u001b[0;34m\u001b[0m\u001b[0;34m\u001b[0m\u001b[0m\n\u001b[0;32m--> 794\u001b[0;31m         ) = self._get_merge_keys()\n\u001b[0m\u001b[1;32m    795\u001b[0m \u001b[0;34m\u001b[0m\u001b[0m\n\u001b[1;32m    796\u001b[0m         \u001b[0;32mif\u001b[0m \u001b[0mleft_drop\u001b[0m\u001b[0;34m:\u001b[0m\u001b[0;34m\u001b[0m\u001b[0;34m\u001b[0m\u001b[0m\n",
            "\u001b[0;32m/usr/local/lib/python3.11/dist-packages/pandas/core/reshape/merge.py\u001b[0m in \u001b[0;36m_get_merge_keys\u001b[0;34m(self)\u001b[0m\n\u001b[1;32m   1295\u001b[0m                         \u001b[0mrk\u001b[0m \u001b[0;34m=\u001b[0m \u001b[0mcast\u001b[0m\u001b[0;34m(\u001b[0m\u001b[0mHashable\u001b[0m\u001b[0;34m,\u001b[0m \u001b[0mrk\u001b[0m\u001b[0;34m)\u001b[0m\u001b[0;34m\u001b[0m\u001b[0;34m\u001b[0m\u001b[0m\n\u001b[1;32m   1296\u001b[0m                         \u001b[0;32mif\u001b[0m \u001b[0mrk\u001b[0m \u001b[0;32mis\u001b[0m \u001b[0;32mnot\u001b[0m \u001b[0;32mNone\u001b[0m\u001b[0;34m:\u001b[0m\u001b[0;34m\u001b[0m\u001b[0;34m\u001b[0m\u001b[0m\n\u001b[0;32m-> 1297\u001b[0;31m                             \u001b[0mright_keys\u001b[0m\u001b[0;34m.\u001b[0m\u001b[0mappend\u001b[0m\u001b[0;34m(\u001b[0m\u001b[0mright\u001b[0m\u001b[0;34m.\u001b[0m\u001b[0m_get_label_or_level_values\u001b[0m\u001b[0;34m(\u001b[0m\u001b[0mrk\u001b[0m\u001b[0;34m)\u001b[0m\u001b[0;34m)\u001b[0m\u001b[0;34m\u001b[0m\u001b[0;34m\u001b[0m\u001b[0m\n\u001b[0m\u001b[1;32m   1298\u001b[0m                         \u001b[0;32melse\u001b[0m\u001b[0;34m:\u001b[0m\u001b[0;34m\u001b[0m\u001b[0;34m\u001b[0m\u001b[0m\n\u001b[1;32m   1299\u001b[0m                             \u001b[0;31m# work-around for merge_asof(right_index=True)\u001b[0m\u001b[0;34m\u001b[0m\u001b[0;34m\u001b[0m\u001b[0m\n",
            "\u001b[0;32m/usr/local/lib/python3.11/dist-packages/pandas/core/generic.py\u001b[0m in \u001b[0;36m_get_label_or_level_values\u001b[0;34m(self, key, axis)\u001b[0m\n\u001b[1;32m   1909\u001b[0m             \u001b[0mvalues\u001b[0m \u001b[0;34m=\u001b[0m \u001b[0mself\u001b[0m\u001b[0;34m.\u001b[0m\u001b[0maxes\u001b[0m\u001b[0;34m[\u001b[0m\u001b[0maxis\u001b[0m\u001b[0;34m]\u001b[0m\u001b[0;34m.\u001b[0m\u001b[0mget_level_values\u001b[0m\u001b[0;34m(\u001b[0m\u001b[0mkey\u001b[0m\u001b[0;34m)\u001b[0m\u001b[0;34m.\u001b[0m\u001b[0m_values\u001b[0m\u001b[0;34m\u001b[0m\u001b[0;34m\u001b[0m\u001b[0m\n\u001b[1;32m   1910\u001b[0m         \u001b[0;32melse\u001b[0m\u001b[0;34m:\u001b[0m\u001b[0;34m\u001b[0m\u001b[0;34m\u001b[0m\u001b[0m\n\u001b[0;32m-> 1911\u001b[0;31m             \u001b[0;32mraise\u001b[0m \u001b[0mKeyError\u001b[0m\u001b[0;34m(\u001b[0m\u001b[0mkey\u001b[0m\u001b[0;34m)\u001b[0m\u001b[0;34m\u001b[0m\u001b[0;34m\u001b[0m\u001b[0m\n\u001b[0m\u001b[1;32m   1912\u001b[0m \u001b[0;34m\u001b[0m\u001b[0m\n\u001b[1;32m   1913\u001b[0m         \u001b[0;31m# Check for duplicates\u001b[0m\u001b[0;34m\u001b[0m\u001b[0;34m\u001b[0m\u001b[0m\n",
            "\u001b[0;31mKeyError\u001b[0m: 'restaurant_name'"
          ]
        }
      ]
    },
    {
      "cell_type": "code",
      "source": [
        "import pandas as pd\n",
        "\n",
        "# Load Zomato dataset\n",
        "zomato_df = pd.read_csv('zomato-data/zomato.csv', encoding='latin-1')  # or encoding='ISO-8859-1'\n",
        "\n",
        "# Load Swiggy dataset (make sure to provide the correct path and encoding)\n",
        "swiggy_df = pd.read_csv('swiggy-data/swiggy.csv', encoding='latin-1')  # or encoding='ISO-8859-1'\n",
        "\n",
        "# Ensure both datasets have the necessary columns\n",
        "print(\"Zomato columns:\", zomato_df.columns)\n",
        "print(\"Swiggy columns:\", swiggy_df.columns)\n",
        "\n",
        "# Rename columns to ensure they match\n",
        "zomato_df.rename(columns=lambda x: x.strip(), inplace=True)\n",
        "swiggy_df.rename(columns=lambda x: x.strip(), inplace=True)\n",
        "\n",
        "# Clean and preprocess Zomato dataset\n",
        "zomato_df = zomato_df.drop_duplicates()\n",
        "zomato_df = zomato_df.dropna()\n",
        "zomato_df['price'] = pd.to_numeric(zomato_df['price'], errors='coerce')\n",
        "\n",
        "# Clean and preprocess Swiggy dataset\n",
        "swiggy_df = swiggy_df.drop_duplicates()\n",
        "swiggy_df = swiggy_df.dropna()\n",
        "swiggy_df['price'] = pd.to_numeric(swiggy_df['price'], errors='coerce')\n",
        "\n",
        "# Merge datasets on restaurant name\n",
        "if 'restaurant_name' in zomato_df.columns and 'restaurant_name' in swiggy_df.columns:\n",
        "    merged_df = pd.merge(zomato_df, swiggy_df, on='restaurant_name', suffixes=('_zomato', '_swiggy'))\n",
        "\n",
        "    # Compare prices\n",
        "    merged_df['price_difference'] = merged_df['price_zomato'] - merged_df['price_swiggy']\n",
        "\n",
        "    # Display restaurants with the largest price differences\n",
        "    print(\"Restaurants with the largest price differences:\")\n",
        "    print(merged_df[['restaurant_name', 'price_zomato', 'price_swiggy', 'price_difference']]\n",
        "          .sort_values(by='price_difference', ascending=False)\n",
        "          .head(10))\n",
        "else:\n",
        "    print(\"The 'restaurant_name' column is missing in one of the datasets.\")\n"
      ],
      "metadata": {
        "colab": {
          "base_uri": "https://localhost:8080/",
          "height": 720
        },
        "id": "-rqt6MdYR714",
        "outputId": "1a818add-7974-43cd-e350-d9996d6bba0f"
      },
      "execution_count": 35,
      "outputs": [
        {
          "output_type": "stream",
          "name": "stdout",
          "text": [
            "Zomato columns: Index(['Restaurant ID', 'Restaurant Name', 'Country Code', 'City', 'Address',\n",
            "       'Locality', 'Locality Verbose', 'Longitude', 'Latitude', 'Cuisines',\n",
            "       'Average Cost for two', 'Currency', 'Has Table booking',\n",
            "       'Has Online delivery', 'Is delivering now', 'Switch to order menu',\n",
            "       'Price range', 'Aggregate rating', 'Rating color', 'Rating text',\n",
            "       'Votes'],\n",
            "      dtype='object')\n",
            "Swiggy columns: Index(['ID', 'Area', 'City', 'Restaurant', 'Price', 'Avg ratings',\n",
            "       'Total ratings', 'Food type', 'Address', 'Delivery time'],\n",
            "      dtype='object')\n"
          ]
        },
        {
          "output_type": "error",
          "ename": "KeyError",
          "evalue": "'price'",
          "traceback": [
            "\u001b[0;31m---------------------------------------------------------------------------\u001b[0m",
            "\u001b[0;31mKeyError\u001b[0m                                  Traceback (most recent call last)",
            "\u001b[0;32m/usr/local/lib/python3.11/dist-packages/pandas/core/indexes/base.py\u001b[0m in \u001b[0;36mget_loc\u001b[0;34m(self, key)\u001b[0m\n\u001b[1;32m   3804\u001b[0m         \u001b[0;32mtry\u001b[0m\u001b[0;34m:\u001b[0m\u001b[0;34m\u001b[0m\u001b[0;34m\u001b[0m\u001b[0m\n\u001b[0;32m-> 3805\u001b[0;31m             \u001b[0;32mreturn\u001b[0m \u001b[0mself\u001b[0m\u001b[0;34m.\u001b[0m\u001b[0m_engine\u001b[0m\u001b[0;34m.\u001b[0m\u001b[0mget_loc\u001b[0m\u001b[0;34m(\u001b[0m\u001b[0mcasted_key\u001b[0m\u001b[0;34m)\u001b[0m\u001b[0;34m\u001b[0m\u001b[0;34m\u001b[0m\u001b[0m\n\u001b[0m\u001b[1;32m   3806\u001b[0m         \u001b[0;32mexcept\u001b[0m \u001b[0mKeyError\u001b[0m \u001b[0;32mas\u001b[0m \u001b[0merr\u001b[0m\u001b[0;34m:\u001b[0m\u001b[0;34m\u001b[0m\u001b[0;34m\u001b[0m\u001b[0m\n",
            "\u001b[0;32mindex.pyx\u001b[0m in \u001b[0;36mpandas._libs.index.IndexEngine.get_loc\u001b[0;34m()\u001b[0m\n",
            "\u001b[0;32mindex.pyx\u001b[0m in \u001b[0;36mpandas._libs.index.IndexEngine.get_loc\u001b[0;34m()\u001b[0m\n",
            "\u001b[0;32mpandas/_libs/hashtable_class_helper.pxi\u001b[0m in \u001b[0;36mpandas._libs.hashtable.PyObjectHashTable.get_item\u001b[0;34m()\u001b[0m\n",
            "\u001b[0;32mpandas/_libs/hashtable_class_helper.pxi\u001b[0m in \u001b[0;36mpandas._libs.hashtable.PyObjectHashTable.get_item\u001b[0;34m()\u001b[0m\n",
            "\u001b[0;31mKeyError\u001b[0m: 'price'",
            "\nThe above exception was the direct cause of the following exception:\n",
            "\u001b[0;31mKeyError\u001b[0m                                  Traceback (most recent call last)",
            "\u001b[0;32m<ipython-input-35-733f10806fc6>\u001b[0m in \u001b[0;36m<cell line: 0>\u001b[0;34m()\u001b[0m\n\u001b[1;32m     18\u001b[0m \u001b[0mzomato_df\u001b[0m \u001b[0;34m=\u001b[0m \u001b[0mzomato_df\u001b[0m\u001b[0;34m.\u001b[0m\u001b[0mdrop_duplicates\u001b[0m\u001b[0;34m(\u001b[0m\u001b[0;34m)\u001b[0m\u001b[0;34m\u001b[0m\u001b[0;34m\u001b[0m\u001b[0m\n\u001b[1;32m     19\u001b[0m \u001b[0mzomato_df\u001b[0m \u001b[0;34m=\u001b[0m \u001b[0mzomato_df\u001b[0m\u001b[0;34m.\u001b[0m\u001b[0mdropna\u001b[0m\u001b[0;34m(\u001b[0m\u001b[0;34m)\u001b[0m\u001b[0;34m\u001b[0m\u001b[0;34m\u001b[0m\u001b[0m\n\u001b[0;32m---> 20\u001b[0;31m \u001b[0mzomato_df\u001b[0m\u001b[0;34m[\u001b[0m\u001b[0;34m'price'\u001b[0m\u001b[0;34m]\u001b[0m \u001b[0;34m=\u001b[0m \u001b[0mpd\u001b[0m\u001b[0;34m.\u001b[0m\u001b[0mto_numeric\u001b[0m\u001b[0;34m(\u001b[0m\u001b[0mzomato_df\u001b[0m\u001b[0;34m[\u001b[0m\u001b[0;34m'price'\u001b[0m\u001b[0;34m]\u001b[0m\u001b[0;34m,\u001b[0m \u001b[0merrors\u001b[0m\u001b[0;34m=\u001b[0m\u001b[0;34m'coerce'\u001b[0m\u001b[0;34m)\u001b[0m\u001b[0;34m\u001b[0m\u001b[0;34m\u001b[0m\u001b[0m\n\u001b[0m\u001b[1;32m     21\u001b[0m \u001b[0;34m\u001b[0m\u001b[0m\n\u001b[1;32m     22\u001b[0m \u001b[0;31m# Clean and preprocess Swiggy dataset\u001b[0m\u001b[0;34m\u001b[0m\u001b[0;34m\u001b[0m\u001b[0m\n",
            "\u001b[0;32m/usr/local/lib/python3.11/dist-packages/pandas/core/frame.py\u001b[0m in \u001b[0;36m__getitem__\u001b[0;34m(self, key)\u001b[0m\n\u001b[1;32m   4100\u001b[0m             \u001b[0;32mif\u001b[0m \u001b[0mself\u001b[0m\u001b[0;34m.\u001b[0m\u001b[0mcolumns\u001b[0m\u001b[0;34m.\u001b[0m\u001b[0mnlevels\u001b[0m \u001b[0;34m>\u001b[0m \u001b[0;36m1\u001b[0m\u001b[0;34m:\u001b[0m\u001b[0;34m\u001b[0m\u001b[0;34m\u001b[0m\u001b[0m\n\u001b[1;32m   4101\u001b[0m                 \u001b[0;32mreturn\u001b[0m \u001b[0mself\u001b[0m\u001b[0;34m.\u001b[0m\u001b[0m_getitem_multilevel\u001b[0m\u001b[0;34m(\u001b[0m\u001b[0mkey\u001b[0m\u001b[0;34m)\u001b[0m\u001b[0;34m\u001b[0m\u001b[0;34m\u001b[0m\u001b[0m\n\u001b[0;32m-> 4102\u001b[0;31m             \u001b[0mindexer\u001b[0m \u001b[0;34m=\u001b[0m \u001b[0mself\u001b[0m\u001b[0;34m.\u001b[0m\u001b[0mcolumns\u001b[0m\u001b[0;34m.\u001b[0m\u001b[0mget_loc\u001b[0m\u001b[0;34m(\u001b[0m\u001b[0mkey\u001b[0m\u001b[0;34m)\u001b[0m\u001b[0;34m\u001b[0m\u001b[0;34m\u001b[0m\u001b[0m\n\u001b[0m\u001b[1;32m   4103\u001b[0m             \u001b[0;32mif\u001b[0m \u001b[0mis_integer\u001b[0m\u001b[0;34m(\u001b[0m\u001b[0mindexer\u001b[0m\u001b[0;34m)\u001b[0m\u001b[0;34m:\u001b[0m\u001b[0;34m\u001b[0m\u001b[0;34m\u001b[0m\u001b[0m\n\u001b[1;32m   4104\u001b[0m                 \u001b[0mindexer\u001b[0m \u001b[0;34m=\u001b[0m \u001b[0;34m[\u001b[0m\u001b[0mindexer\u001b[0m\u001b[0;34m]\u001b[0m\u001b[0;34m\u001b[0m\u001b[0;34m\u001b[0m\u001b[0m\n",
            "\u001b[0;32m/usr/local/lib/python3.11/dist-packages/pandas/core/indexes/base.py\u001b[0m in \u001b[0;36mget_loc\u001b[0;34m(self, key)\u001b[0m\n\u001b[1;32m   3810\u001b[0m             ):\n\u001b[1;32m   3811\u001b[0m                 \u001b[0;32mraise\u001b[0m \u001b[0mInvalidIndexError\u001b[0m\u001b[0;34m(\u001b[0m\u001b[0mkey\u001b[0m\u001b[0;34m)\u001b[0m\u001b[0;34m\u001b[0m\u001b[0;34m\u001b[0m\u001b[0m\n\u001b[0;32m-> 3812\u001b[0;31m             \u001b[0;32mraise\u001b[0m \u001b[0mKeyError\u001b[0m\u001b[0;34m(\u001b[0m\u001b[0mkey\u001b[0m\u001b[0;34m)\u001b[0m \u001b[0;32mfrom\u001b[0m \u001b[0merr\u001b[0m\u001b[0;34m\u001b[0m\u001b[0;34m\u001b[0m\u001b[0m\n\u001b[0m\u001b[1;32m   3813\u001b[0m         \u001b[0;32mexcept\u001b[0m \u001b[0mTypeError\u001b[0m\u001b[0;34m:\u001b[0m\u001b[0;34m\u001b[0m\u001b[0;34m\u001b[0m\u001b[0m\n\u001b[1;32m   3814\u001b[0m             \u001b[0;31m# If we have a listlike key, _check_indexing_error will raise\u001b[0m\u001b[0;34m\u001b[0m\u001b[0;34m\u001b[0m\u001b[0m\n",
            "\u001b[0;31mKeyError\u001b[0m: 'price'"
          ]
        }
      ]
    },
    {
      "cell_type": "code",
      "source": [
        "import pandas as pd\n",
        "\n",
        "# Load Zomato dataset\n",
        "zomato_df = pd.read_csv('zomato-data/zomato.csv', encoding='latin-1')  # or encoding='ISO-8859-1'\n",
        "\n",
        "# Load Swiggy dataset (make sure to provide the correct path and encoding)\n",
        "swiggy_df = pd.read_csv('swiggy-data/swiggy.csv', encoding='latin-1')  # or encoding='ISO-8859-1'\n",
        "\n",
        "# Ensure both datasets have the necessary columns\n",
        "print(\"Zomato columns:\", zomato_df.columns)\n",
        "print(\"Swiggy columns:\", swiggy_df.columns)\n",
        "\n",
        "# Rename columns to ensure they match\n",
        "zomato_df.rename(columns={'Restaurant Name': 'restaurant_name', 'Average Cost for two': 'price'}, inplace=True)\n",
        "swiggy_df.rename(columns={'Restaurant': 'restaurant_name', 'Price': 'price'}, inplace=True)\n",
        "\n",
        "# Clean and preprocess Zomato dataset\n",
        "zomato_df = zomato_df.drop_duplicates()\n",
        "zomato_df = zomato_df.dropna(subset=['restaurant_name', 'price'])\n",
        "zomato_df['price'] = pd.to_numeric(zomato_df['price'], errors='coerce')\n",
        "\n",
        "# Clean and preprocess Swiggy dataset\n",
        "swiggy_df = swiggy_df.drop_duplicates()\n",
        "swiggy_df = swiggy_df.dropna(subset=['restaurant_name', 'price'])\n",
        "swiggy_df['price'] = pd.to_numeric(swiggy_df['price'], errors='coerce')\n",
        "\n",
        "# Merge datasets on restaurant name\n",
        "if 'restaurant_name' in zomato_df.columns and 'restaurant_name' in swiggy_df.columns:\n",
        "    merged_df = pd.merge(zomato_df, swiggy_df, on='restaurant_name', suffixes=('_zomato', '_swiggy'))\n",
        "\n",
        "    # Compare prices\n",
        "    merged_df['price_difference'] = merged_df['price_zomato'] - merged_df['price_swiggy']\n",
        "\n",
        "    # Display restaurants with the largest price differences\n",
        "    print(\"Restaurants with the largest price differences:\")\n",
        "    print(merged_df[['restaurant_name', 'price_zomato', 'price_swiggy', 'price_difference']]\n",
        "          .sort_values(by='price_difference', ascending=False)\n",
        "          .head(10))\n",
        "else:\n",
        "    print(\"The 'restaurant_name' column is missing in one of the datasets.\")\n"
      ],
      "metadata": {
        "colab": {
          "base_uri": "https://localhost:8080/"
        },
        "id": "GtmhMtkKSTHR",
        "outputId": "4acc290a-cd90-4586-af21-fe16ffa98a11"
      },
      "execution_count": 36,
      "outputs": [
        {
          "output_type": "stream",
          "name": "stdout",
          "text": [
            "Zomato columns: Index(['Restaurant ID', 'Restaurant Name', 'Country Code', 'City', 'Address',\n",
            "       'Locality', 'Locality Verbose', 'Longitude', 'Latitude', 'Cuisines',\n",
            "       'Average Cost for two', 'Currency', 'Has Table booking',\n",
            "       'Has Online delivery', 'Is delivering now', 'Switch to order menu',\n",
            "       'Price range', 'Aggregate rating', 'Rating color', 'Rating text',\n",
            "       'Votes'],\n",
            "      dtype='object')\n",
            "Swiggy columns: Index(['ID', 'Area', 'City', 'Restaurant', 'Price', 'Avg ratings',\n",
            "       'Total ratings', 'Food type', 'Address', 'Delivery time'],\n",
            "      dtype='object')\n",
            "Restaurants with the largest price differences:\n",
            "              restaurant_name  price_zomato  price_swiggy  price_difference\n",
            "1833  The Great Kabab Factory          2200         600.0            1600.0\n",
            "1605                  Zaffran          2000         400.0            1600.0\n",
            "2943  The Great Kabab Factory          2200         600.0            1600.0\n",
            "128           Barbeque Nation          2000         600.0            1400.0\n",
            "126           Barbeque Nation          2000         600.0            1400.0\n",
            "127           Barbeque Nation          2000         600.0            1400.0\n",
            "129           Barbeque Nation          2000         600.0            1400.0\n",
            "130           Barbeque Nation          2000         600.0            1400.0\n",
            "131           Barbeque Nation          2000         600.0            1400.0\n",
            "2381                 Pa Pa Ya          2000         600.0            1400.0\n"
          ]
        }
      ]
    },
    {
      "cell_type": "code",
      "source": [
        "# Display the column names in the Swiggy dataset\n",
        "print(\"Swiggy Dataset Columns:\")\n",
        "print(swiggy_df.columns)\n",
        "\n",
        "# Display the first few rows of the Swiggy dataset\n",
        "print(\"\\nSwiggy Dataset Sample:\")\n",
        "print(swiggy_df.head())"
      ],
      "metadata": {
        "colab": {
          "base_uri": "https://localhost:8080/"
        },
        "id": "wR8KbWlrSrXo",
        "outputId": "48365c0d-b3d7-41b5-b486-587e29444885"
      },
      "execution_count": 39,
      "outputs": [
        {
          "output_type": "stream",
          "name": "stdout",
          "text": [
            "Swiggy Dataset Columns:\n",
            "Index(['ID', 'Area', 'City', 'restaurant_name', 'price', 'Avg ratings',\n",
            "       'Total ratings', 'Food type', 'Address', 'Delivery time'],\n",
            "      dtype='object')\n",
            "\n",
            "Swiggy Dataset Sample:\n",
            "    ID         Area       City    restaurant_name  price  Avg ratings  \\\n",
            "0  211  Koramangala  Bangalore        Tandoor Hut  300.0          4.4   \n",
            "1  221  Koramangala  Bangalore      Tunday Kababi  300.0          4.1   \n",
            "2  246    Jogupalya  Bangalore            Kim Lee  650.0          4.4   \n",
            "3  248  Indiranagar  Bangalore  New Punjabi Hotel  250.0          3.9   \n",
            "4  249  Indiranagar  Bangalore                Nh8  350.0          4.0   \n",
            "\n",
            "   Total ratings                                          Food type  \\\n",
            "0            100          Biryani,Chinese,North Indian,South Indian   \n",
            "1            100                                   Mughlai,Lucknowi   \n",
            "2            100                                            Chinese   \n",
            "3            500               North Indian,Punjabi,Tandoor,Chinese   \n",
            "4             50  Rajasthani,Gujarati,North Indian,Snacks,Desser...   \n",
            "\n",
            "        Address  Delivery time  \n",
            "0     5Th Block             59  \n",
            "1     5Th Block             56  \n",
            "2   Double Road             50  \n",
            "3  80 Feet Road             57  \n",
            "4  80 Feet Road             63  \n"
          ]
        }
      ]
    },
    {
      "cell_type": "code",
      "source": [
        "# Display the column names in the Zomato dataset\n",
        "print(\"Zomato Dataset Columns:\")\n",
        "print(zomato_df.columns)\n",
        "\n",
        "# Display the first few rows of the Zomato dataset\n",
        "print(\"\\nZomato Dataset Sample:\")\n",
        "print(zomato_df.head())"
      ],
      "metadata": {
        "colab": {
          "base_uri": "https://localhost:8080/"
        },
        "id": "dZJK-vsyTTTr",
        "outputId": "1db63d3a-ac0c-47b7-e45f-10e0c3f50035"
      },
      "execution_count": 40,
      "outputs": [
        {
          "output_type": "stream",
          "name": "stdout",
          "text": [
            "Zomato Dataset Columns:\n",
            "Index(['Restaurant ID', 'restaurant_name', 'Country Code', 'City', 'Address',\n",
            "       'Locality', 'Locality Verbose', 'Longitude', 'Latitude', 'Cuisines',\n",
            "       'price', 'Currency', 'Has Table booking', 'Has Online delivery',\n",
            "       'Is delivering now', 'Switch to order menu', 'Price range',\n",
            "       'Aggregate rating', 'Rating color', 'Rating text', 'Votes'],\n",
            "      dtype='object')\n",
            "\n",
            "Zomato Dataset Sample:\n",
            "   Restaurant ID         restaurant_name  Country Code              City  \\\n",
            "0        6317637        Le Petit Souffle           162       Makati City   \n",
            "1        6304287        Izakaya Kikufuji           162       Makati City   \n",
            "2        6300002  Heat - Edsa Shangri-La           162  Mandaluyong City   \n",
            "3        6318506                    Ooma           162  Mandaluyong City   \n",
            "4        6314302             Sambo Kojin           162  Mandaluyong City   \n",
            "\n",
            "                                             Address  \\\n",
            "0  Third Floor, Century City Mall, Kalayaan Avenu...   \n",
            "1  Little Tokyo, 2277 Chino Roces Avenue, Legaspi...   \n",
            "2  Edsa Shangri-La, 1 Garden Way, Ortigas, Mandal...   \n",
            "3  Third Floor, Mega Fashion Hall, SM Megamall, O...   \n",
            "4  Third Floor, Mega Atrium, SM Megamall, Ortigas...   \n",
            "\n",
            "                                     Locality  \\\n",
            "0   Century City Mall, Poblacion, Makati City   \n",
            "1  Little Tokyo, Legaspi Village, Makati City   \n",
            "2  Edsa Shangri-La, Ortigas, Mandaluyong City   \n",
            "3      SM Megamall, Ortigas, Mandaluyong City   \n",
            "4      SM Megamall, Ortigas, Mandaluyong City   \n",
            "\n",
            "                                    Locality Verbose   Longitude   Latitude  \\\n",
            "0  Century City Mall, Poblacion, Makati City, Mak...  121.027535  14.565443   \n",
            "1  Little Tokyo, Legaspi Village, Makati City, Ma...  121.014101  14.553708   \n",
            "2  Edsa Shangri-La, Ortigas, Mandaluyong City, Ma...  121.056831  14.581404   \n",
            "3  SM Megamall, Ortigas, Mandaluyong City, Mandal...  121.056475  14.585318   \n",
            "4  SM Megamall, Ortigas, Mandaluyong City, Mandal...  121.057508  14.584450   \n",
            "\n",
            "                           Cuisines  ...          Currency Has Table booking  \\\n",
            "0        French, Japanese, Desserts  ...  Botswana Pula(P)               Yes   \n",
            "1                          Japanese  ...  Botswana Pula(P)               Yes   \n",
            "2  Seafood, Asian, Filipino, Indian  ...  Botswana Pula(P)               Yes   \n",
            "3                   Japanese, Sushi  ...  Botswana Pula(P)                No   \n",
            "4                  Japanese, Korean  ...  Botswana Pula(P)               Yes   \n",
            "\n",
            "  Has Online delivery Is delivering now Switch to order menu Price range  \\\n",
            "0                  No                No                   No           3   \n",
            "1                  No                No                   No           3   \n",
            "2                  No                No                   No           4   \n",
            "3                  No                No                   No           4   \n",
            "4                  No                No                   No           4   \n",
            "\n",
            "   Aggregate rating  Rating color Rating text Votes  \n",
            "0               4.8    Dark Green   Excellent   314  \n",
            "1               4.5    Dark Green   Excellent   591  \n",
            "2               4.4         Green   Very Good   270  \n",
            "3               4.9    Dark Green   Excellent   365  \n",
            "4               4.8    Dark Green   Excellent   229  \n",
            "\n",
            "[5 rows x 21 columns]\n"
          ]
        }
      ]
    },
    {
      "cell_type": "code",
      "source": [
        "# Filter data for a specific cuisine (e.g., Italian)\n",
        "zomato_italian = zomato_df[zomato_df['Cuisines'].str.contains('Italian', case=False, na=False)]\n",
        "swiggy_italian = swiggy_df[swiggy_df['Food type'].str.contains('Italian', case=False, na=False)]\n",
        "\n",
        "# Display the filtered data\n",
        "print(\"Zomato Italian Restaurants:\")\n",
        "print(zomato_italian[['restaurant_name', 'Cuisines', 'price']].head())\n",
        "\n",
        "print(\"\\nSwiggy Italian Restaurants:\")\n",
        "print(swiggy_italian[['restaurant_name', 'Food type', 'price']].head())"
      ],
      "metadata": {
        "colab": {
          "base_uri": "https://localhost:8080/"
        },
        "id": "deuToMFlTwZE",
        "outputId": "3c5cb746-bd42-46fd-b6e0-e1ba476fcd44"
      },
      "execution_count": 41,
      "outputs": [
        {
          "output_type": "stream",
          "name": "stdout",
          "text": [
            "Zomato Italian Restaurants:\n",
            "                  restaurant_name                           Cuisines  price\n",
            "15                  Cafe Arabelle  Cafe, American, Italian, Filipino    800\n",
            "16       Nonna's Pasta & Pizzeria                     Italian, Pizza    850\n",
            "19        Wildflour Cafe + Bakery    Cafe, Bakery, American, Italian   1500\n",
            "21  The Food Hall by Todd English  American, Asian, Italian, Seafood   1800\n",
            "31                   Villa Tevere                            Italian    150\n",
            "\n",
            "Swiggy Italian Restaurants:\n",
            "                    restaurant_name  \\\n",
            "8                          Tea Brew   \n",
            "26                            Kosho   \n",
            "31  The Brekkie Shop - All Day Menu   \n",
            "41                    Ohri'S Eatmor   \n",
            "75                         Truffles   \n",
            "\n",
            "                                            Food type  price  \n",
            "8   American,Italian,Beverages,Continental,Chinese...  350.0  \n",
            "26       Mughlai,North Indian,Chinese,Seafood,Italian  300.0  \n",
            "31  British,Italian,Indian,Chinese,South Indian,No...  200.0  \n",
            "41         Ice Cream,Beverages,Desserts,Chaat,Italian  600.0  \n",
            "75              American,Desserts,Continental,Italian  450.0  \n"
          ]
        }
      ]
    },
    {
      "cell_type": "code",
      "source": [
        "# Compare average prices for Italian cuisine\n",
        "zomato_italian_avg = zomato_italian.groupby('restaurant_name')['price'].mean().reset_index()\n",
        "swiggy_italian_avg = swiggy_italian.groupby('restaurant_name')['price'].mean().reset_index()\n",
        "\n",
        "# Merge Italian cuisine prices\n",
        "italian_comparison = pd.merge(zomato_italian_avg, swiggy_italian_avg, on='restaurant_name', suffixes=('_zomato', '_swiggy'))\n",
        "\n",
        "# Calculate price difference\n",
        "italian_comparison['price_difference'] = italian_comparison['price_zomato'] - italian_comparison['price_swiggy']\n",
        "\n",
        "# Display results\n",
        "print(\"Italian Cuisine Price Comparison:\")\n",
        "print(italian_comparison.sort_values(by='price_difference', ascending=False).head(10))"
      ],
      "metadata": {
        "colab": {
          "base_uri": "https://localhost:8080/"
        },
        "id": "p62jGCSCT3ed",
        "outputId": "efd4c2cf-69c0-4ae4-e77f-690640b21791"
      },
      "execution_count": 42,
      "outputs": [
        {
          "output_type": "stream",
          "name": "stdout",
          "text": [
            "Italian Cuisine Price Comparison:\n",
            "         restaurant_name  price_zomato  price_swiggy  price_difference\n",
            "6               Italiano        1500.0    250.000000       1250.000000\n",
            "12      Smoke House Deli        1625.0    733.333333        891.666667\n",
            "7          Kaidi Kitchen        1500.0    900.000000        600.000000\n",
            "16    The Chocolate Room         850.0    275.000000        575.000000\n",
            "10                Onesta         600.0    200.000000        400.000000\n",
            "2         Falafel Lovers         650.0    400.000000        250.000000\n",
            "13       Tales & Spirits         800.0    600.000000        200.000000\n",
            "4        Fusilli Reasons         350.0    200.000000        150.000000\n",
            "5              Hoppipola        1200.0   1050.000000        150.000000\n",
            "15  The Chocolate Heaven         400.0    300.000000        100.000000\n"
          ]
        }
      ]
    },
    {
      "cell_type": "code",
      "source": [
        "# Merge datasets on restaurant name\n",
        "merged_df = pd.merge(zomato_df, swiggy_df, on='restaurant_name', suffixes=('_zomato', '_swiggy'))\n",
        "\n",
        "# Compare prices\n",
        "merged_df['price_difference'] = merged_df['price_zomato'] - merged_df['price_swiggy']\n",
        "\n",
        "# Display restaurants with the largest price differences\n",
        "print(\"Restaurants with the largest price differences:\")\n",
        "print(merged_df[['restaurant_name', 'price_zomato', 'price_swiggy', 'price_difference']].sort_values(by='price_difference', ascending=False).head(10))"
      ],
      "metadata": {
        "colab": {
          "base_uri": "https://localhost:8080/"
        },
        "id": "Vlb-hJ-oT71K",
        "outputId": "7a700f6a-10f0-4802-e2c0-7a34f4b8b2ff"
      },
      "execution_count": 43,
      "outputs": [
        {
          "output_type": "stream",
          "name": "stdout",
          "text": [
            "Restaurants with the largest price differences:\n",
            "              restaurant_name  price_zomato  price_swiggy  price_difference\n",
            "1833  The Great Kabab Factory          2200         600.0            1600.0\n",
            "1605                  Zaffran          2000         400.0            1600.0\n",
            "2943  The Great Kabab Factory          2200         600.0            1600.0\n",
            "128           Barbeque Nation          2000         600.0            1400.0\n",
            "126           Barbeque Nation          2000         600.0            1400.0\n",
            "127           Barbeque Nation          2000         600.0            1400.0\n",
            "129           Barbeque Nation          2000         600.0            1400.0\n",
            "130           Barbeque Nation          2000         600.0            1400.0\n",
            "131           Barbeque Nation          2000         600.0            1400.0\n",
            "2381                 Pa Pa Ya          2000         600.0            1400.0\n"
          ]
        }
      ]
    },
    {
      "cell_type": "code",
      "source": [
        "import pandas as pd\n",
        "\n",
        "# Function to calculate weighted score\n",
        "def calculate_weighted_score(df, price_col, rating_col, votes_col):\n",
        "    # Normalize ratings, votes, and price\n",
        "    max_rating = df[rating_col].max()\n",
        "    max_votes = df[votes_col].max()\n",
        "    max_price = df[price_col].max()\n",
        "\n",
        "    # Calculate weighted score\n",
        "    df['weighted_score'] = (\n",
        "        (df[rating_col] / max_rating * 0.6) +  # 60% weight to ratings\n",
        "        (df[votes_col] / max_votes * 0.2) +    # 20% weight to number of ratings\n",
        "        ((max_price - df[price_col]) / max_price * 0.2)  # 20% weight to price (lower is better)\n",
        "    )\n",
        "    return df\n",
        "\n",
        "# Calculate weighted score for Zomato dishes\n",
        "zomato_df = calculate_weighted_score(zomato_df, price_col='price', rating_col='Aggregate rating', votes_col='Votes')\n",
        "\n",
        "# Calculate weighted score for Swiggy dishes\n",
        "swiggy_df = calculate_weighted_score(swiggy_df, price_col='price', rating_col='Avg ratings', votes_col='Total ratings')\n",
        "\n",
        "# Combine both datasets for comparison\n",
        "zomato_df['platform'] = 'Zomato'\n",
        "swiggy_df['platform'] = 'Swiggy'\n",
        "\n",
        "# Select relevant columns\n",
        "zomato_dishes = zomato_df[['restaurant_name', 'Cuisines', 'price', 'Aggregate rating', 'Votes', 'weighted_score', 'platform']]\n",
        "swiggy_dishes = swiggy_df[['restaurant_name', 'Food type', 'price', 'Avg ratings', 'Total ratings', 'weighted_score', 'platform']]\n",
        "\n",
        "# Rename columns for consistency\n",
        "zomato_dishes.rename(columns={'Cuisines': 'Dish', 'Aggregate rating': 'Rating', 'Votes': 'Num Ratings'}, inplace=True)\n",
        "swiggy_dishes.rename(columns={'Food type': 'Dish', 'Avg ratings': 'Rating', 'Total ratings': 'Num Ratings'}, inplace=True)\n",
        "\n",
        "# Combine both datasets\n",
        "all_dishes = pd.concat([zomato_dishes, swiggy_dishes], ignore_index=True)\n",
        "\n",
        "# Sort dishes by weighted score (descending)\n",
        "best_dishes = all_dishes.sort_values(by='weighted_score', ascending=False)\n",
        "\n",
        "# Display the top 10 best dishes\n",
        "print(\"Top 10 Best Dishes:\")\n",
        "print(best_dishes[['restaurant_name', 'Dish', 'price', 'Rating', 'Num Ratings', 'platform', 'weighted_score']].head(10))"
      ],
      "metadata": {
        "colab": {
          "base_uri": "https://localhost:8080/"
        },
        "id": "TKTXXNBRZZ_A",
        "outputId": "faa045e8-1599-4e53-fdbe-00f6c0b68e37"
      },
      "execution_count": 45,
      "outputs": [
        {
          "output_type": "stream",
          "name": "stdout",
          "text": [
            "Top 10 Best Dishes:\n",
            "                 restaurant_name  \\\n",
            "728                         Toit   \n",
            "735                     Truffles   \n",
            "2414             Barbeque Nation   \n",
            "2307   AB's - Absolute Barbecues   \n",
            "739    AB's - Absolute Barbecues   \n",
            "11370           4M Biryani House   \n",
            "3994            Hauz Khas Social   \n",
            "9641                 Grand Hotel   \n",
            "2412                   Peter Cat   \n",
            "2495             Mirchi And Mime   \n",
            "\n",
            "                                                 Dish   price  Rating  \\\n",
            "728                          Italian, American, Pizza  2000.0     4.8   \n",
            "735                            American, Burger, Cafe   800.0     4.7   \n",
            "2414                            North Indian, Chinese  1600.0     4.9   \n",
            "2307            European, Mediterranean, North Indian  1500.0     4.9   \n",
            "739             European, Mediterranean, North Indian  1400.0     4.6   \n",
            "11370                    Biryani,North Indian,Chinese   250.0     4.1   \n",
            "3994       Continental, American, Asian, North Indian  1600.0     4.3   \n",
            "9641   Biryani,Tandoor,Chinese,Indian,Kebabs,Desserts   300.0     4.1   \n",
            "2412                        Continental, North Indian  1000.0     4.3   \n",
            "2495              North Indian, South Indian, Mughlai  1500.0     4.9   \n",
            "\n",
            "       Num Ratings platform  weighted_score  \n",
            "728          10934   Zomato        0.987255  \n",
            "735           9667   Zomato        0.952135  \n",
            "2414          5966   Zomato        0.908727  \n",
            "2307          5434   Zomato        0.899021  \n",
            "739           6907   Zomato        0.889255  \n",
            "11370        10000   Swiggy        0.872000  \n",
            "3994          7931   Zomato        0.871201  \n",
            "9641         10000   Swiggy        0.868000  \n",
            "2412          7574   Zomato        0.864821  \n",
            "2495          3244   Zomato        0.858963  \n"
          ]
        },
        {
          "output_type": "stream",
          "name": "stderr",
          "text": [
            "<ipython-input-45-2161e32741a7>:33: SettingWithCopyWarning: \n",
            "A value is trying to be set on a copy of a slice from a DataFrame\n",
            "\n",
            "See the caveats in the documentation: https://pandas.pydata.org/pandas-docs/stable/user_guide/indexing.html#returning-a-view-versus-a-copy\n",
            "  zomato_dishes.rename(columns={'Cuisines': 'Dish', 'Aggregate rating': 'Rating', 'Votes': 'Num Ratings'}, inplace=True)\n",
            "<ipython-input-45-2161e32741a7>:34: SettingWithCopyWarning: \n",
            "A value is trying to be set on a copy of a slice from a DataFrame\n",
            "\n",
            "See the caveats in the documentation: https://pandas.pydata.org/pandas-docs/stable/user_guide/indexing.html#returning-a-view-versus-a-copy\n",
            "  swiggy_dishes.rename(columns={'Food type': 'Dish', 'Avg ratings': 'Rating', 'Total ratings': 'Num Ratings'}, inplace=True)\n"
          ]
        }
      ]
    },
    {
      "cell_type": "code",
      "source": [
        "import matplotlib.pyplot as plt\n",
        "import seaborn as sns\n",
        "\n",
        "# Plot price differences for common restaurants\n",
        "plt.figure(figsize=(10, 6))\n",
        "sns.barplot(x='restaurant_name', y='price_difference', data=merged_df.sort_values(by='price_difference', ascending=False).head(10))\n",
        "plt.title('Top 10 Restaurants with Largest Price Differences (Zomato vs Swiggy)')\n",
        "plt.xlabel('Restaurant')\n",
        "plt.ylabel('Price Difference (Zomato - Swiggy)')\n",
        "plt.xticks(rotation=45)\n",
        "plt.show()"
      ],
      "metadata": {
        "colab": {
          "base_uri": "https://localhost:8080/",
          "height": 682
        },
        "id": "1k9loHqzT_ro",
        "outputId": "4013f5f7-102a-4ce8-82f0-219eec474f69"
      },
      "execution_count": 46,
      "outputs": [
        {
          "output_type": "display_data",
          "data": {
            "text/plain": [
              "<Figure size 1000x600 with 1 Axes>"
            ],
            "image/png": "[encoded data removed]"
          },
          "metadata": {}
        }
      ]
    },
    {
      "cell_type": "code",
      "source": [
        "import matplotlib.pyplot as plt\n",
        "import seaborn as sns\n",
        "\n",
        "# Plot the top 10 best dishes\n",
        "plt.figure(figsize=(12, 6))\n",
        "sns.barplot(x='weighted_score', y='Dish', hue='platform', data=best_dishes.head(10))\n",
        "plt.title('Top 10 Best Dishes (Zomato vs Swiggy)')\n",
        "plt.xlabel('Weighted Score')\n",
        "plt.ylabel('Dish')\n",
        "plt.legend(title='Platform')\n",
        "plt.show()"
      ],
      "metadata": {
        "colab": {
          "base_uri": "https://localhost:8080/",
          "height": 564
        },
        "id": "X5UQ6sA4ZhF3",
        "outputId": "18935414-dc0f-490a-8644-c7283669b235"
      },
      "execution_count": 47,
      "outputs": [
        {
          "output_type": "display_data",
          "data": {
            "text/plain": [
              "<Figure size 1200x600 with 1 Axes>"
            ],
            "image/png": "[encoded data removed]"
          },
          "metadata": {}
        }
      ]
    }
  ]
}